{
 "cells": [
  {
   "cell_type": "code",
   "execution_count": 13,
   "id": "initial_id",
   "metadata": {
    "collapsed": true,
    "ExecuteTime": {
     "end_time": "2025-10-24T06:21:20.464589400Z",
     "start_time": "2025-10-24T06:21:20.221523800Z"
    }
   },
   "outputs": [],
   "source": [
    "import numpy as np\n",
    "import matplotlib.pyplot as plt\n",
    "from fixed_params import *\n",
    "from fixed_params.general import *\n",
    "from fixed_params.propulsion import *\n",
    "from fixed_params.avionics import *\n",
    "from fixed_params.flight_track import *\n",
    "from fixed_params.wing import *\n",
    "from material_properties import areal_mass\n",
    "from skopt import gp_minimize\n",
    "from skopt.space import Real, Integer\n",
    "from scipy.optimize import brentq\n",
    "from RC_Plane_v3 import RCPlane\n",
    "import pygad"
   ]
  },
  {
   "cell_type": "markdown",
   "source": [
    "## Mission Scoring Functions"
   ],
   "metadata": {
    "collapsed": false
   },
   "id": "40f50aa498923326"
  },
  {
   "cell_type": "code",
   "outputs": [],
   "source": [
    "def round_inches(x: float) -> float:\n",
    "    \"\"\"\n",
    "    Round a measurement in inches down to the nearest 0.00, 0.25, 0.50, or 0.75.\n",
    "\n",
    "    Example:\n",
    "        10.37 -> 10.25\n",
    "        5.81  -> 5.75\n",
    "        7.99  -> 7.75\n",
    "    \"\"\"\n",
    "    # Whole inch part\n",
    "    whole = int(x)\n",
    "\n",
    "    # Fractional part\n",
    "    frac = x - whole\n",
    "\n",
    "    # Define breakpoints\n",
    "    targets = [0.00, 0.25, 0.50, 0.75]\n",
    "\n",
    "    # Find the largest target <= frac\n",
    "    rounded_frac = max([t for t in targets if t <= frac], default=0.00)\n",
    "\n",
    "    return whole + rounded_frac\n",
    "\n",
    "def mission_2(num_passengers, num_cargo, m2_laps, battery_capacity):\n",
    "\n",
    "    income = (num_passengers * (6 + 2 * m2_laps)) + (num_cargo * (10 + 8 * m2_laps))\n",
    "    EF = battery_capacity / 100\n",
    "    cost = m2_laps * (10 + (num_passengers*0.5) + (num_cargo*2)) * EF\n",
    "    net_income = income - cost\n",
    "    m2 = 1 + (net_income / 900)\n",
    "    return m2\n",
    "\n",
    "def mission_3(banner_length, number_of_laps, wing_span):\n",
    "    \"\"\"\n",
    "    :param banner_length: length in inches\n",
    "    :param number_of_laps: number of laps\n",
    "    :param wing_span: span in metres\n",
    "    :return: mission 3 score with best score of 410\n",
    "    \"\"\"\n",
    "    wing_span_inches = wing_span * 39.3701\n",
    "    pre = round(wing_span_inches)/12 * 0.05 + 0.75\n",
    "    RAC = pre if pre >= 0.9 else 0.9\n",
    "    rounded_banner = round_inches(banner_length)\n",
    "    m3 = (rounded_banner * number_of_laps / RAC)\n",
    "    m3_best = 1100\n",
    "    return 2 + (m3 / m3_best)\n",
    "\n",
    "def mission_2raw(num_passengers, num_cargo, m2_laps, battery_capacity):\n",
    "\n",
    "    income = (num_passengers * (6 + 2 * m2_laps)) + (num_cargo * (10 + 8 * m2_laps))\n",
    "    EF = battery_capacity / 100\n",
    "    cost = m2_laps * (10 + (num_passengers*0.5) + (num_cargo*2)) * EF\n",
    "    net_income = income - cost\n",
    "    return net_income\n",
    "def mission_3raw(banner_length, number_of_laps, wing_span):\n",
    "    \"\"\"\n",
    "    :param banner_length: length in inches\n",
    "    :param number_of_laps: number of laps\n",
    "    :param wing_span: span in metres\n",
    "    :return: mission 3 score with best score of 410\n",
    "    \"\"\"\n",
    "    wing_span_inches = wing_span * 39.3701\n",
    "    pre = round(wing_span_inches)/12 * 0.05 + 0.75\n",
    "    RAC = pre if pre >= 0.9 else 0.9\n",
    "    rounded_banner = round_inches(banner_length)\n",
    "    m3 = (rounded_banner * number_of_laps / RAC)\n",
    "    return m3"
   ],
   "metadata": {
    "collapsed": false,
    "ExecuteTime": {
     "end_time": "2025-10-24T06:21:21.661460600Z",
     "start_time": "2025-10-24T06:21:21.641439600Z"
    }
   },
   "id": "371800fed8a46ae4",
   "execution_count": 14
  },
  {
   "cell_type": "markdown",
   "source": [
    "## Brute Force"
   ],
   "metadata": {
    "collapsed": false
   },
   "id": "a52660e2e837aa54"
  },
  {
   "cell_type": "code",
   "outputs": [],
   "source": [
    "import numpy as np\n",
    "import itertools\n",
    "import pandas as pd\n",
    "from math import ceil\n",
    "\n",
    "# ----------------------------------------------------------------------\n",
    "# 2. DISCRETIZED SEARCH SPACE\n",
    "# ----------------------------------------------------------------------\n",
    "\n",
    "# Real(0.2, 20, name=\"m_struct\"), #kg\n",
    "M_STRUCT_VALUES = np.linspace(0.5, 20) \n",
    "\n",
    "# Real(0.92, 1.52, name=\"wing_span\"), # m\n",
    "WING_SPAN_VALUES = np.linspace(0.92, 1.52)\n",
    "\n",
    "# Integer(40, 4000, name=\"motor_power\"), #W\n",
    "MOTOR_POWER_VALUES = np.linspace(40, 4000, 100)\n",
    "\n",
    "# Integer(1, 8, name=\"wing_AR\"), \n",
    "WING_AR_VALUES = [i for i in range(1,9)]\n",
    "\n",
    "# Integer(1, 30, name=\"pucks\"),\n",
    "PUCK_VALUES = [i for i in range(1,31)]\n",
    "\n",
    "# Integer(3, 15, name=\"passenger_cargo_ratio\"),\n",
    "PASSENGER_CARGO_RATIO_VALUES = [i for i in range(3,16)]\n",
    "\n",
    "# Integer(1, 100, name=\"m2_battery\"), #Wh\n",
    "M2_BATTERY_VALUES = np.linspace(1,100, 100)\n",
    "\n",
    "# Integer(1, 1000, name=\"banner_length\"), #inch\n",
    "BANNER_LENGTH_VALUES = np.linspace(1,1000, 200)\n",
    "\n",
    "# Integer(1, 5, name=\"banner_AR\"),\n",
    "BANNER_AR_VALUES = [i for i in range(1,6)]\n",
    "\n",
    "# Integer(1, 100, name=\"m3_battery\")\n",
    "M3_BATTERY_VALUES = np.linspace(1,100, 100)\n",
    "\n",
    "\n",
    "# Generate the full grid of parameters\n",
    "PARAMETER_GRID = list(itertools.product(\n",
    "    M_STRUCT_VALUES, WING_SPAN_VALUES, MOTOR_POWER_VALUES, WING_AR_VALUES,\n",
    "    PUCK_VALUES, PASSENGER_CARGO_RATIO_VALUES, M2_BATTERY_VALUES, \n",
    "    BANNER_LENGTH_VALUES, BANNER_AR_VALUES, M3_BATTERY_VALUES\n",
    "))\n",
    "\n",
    "# ----------------------------------------------------------------------\n",
    "# 3. GRID SEARCH EXECUTION\n",
    "# ----------------------------------------------------------------------\n",
    "\n",
    "RESULTS = []\n",
    "\n",
    "print(f\"Starting grid search over {len(PARAMETER_GRID)} combinations...\")\n",
    "\n",
    "for i, params in enumerate(PARAMETER_GRID):\n",
    "    m_struct, wing_span, motor_power, wing_AR, n_pucks, passenger_cargo_ratio, \\\n",
    "        m2_battery, banner_length, banner_AR, m3_battery = params\n",
    "\n",
    "    try:\n",
    "        # Instantiate the plane\n",
    "        # NOTE: This line requires your RCPlane class to be defined/imported\n",
    "\n",
    "        \n",
    "        # --- Check Constraints ---\n",
    "        \n",
    "        # 1. Mass Coherence (Handled internally by RCPlane __post_init__)\n",
    "        # If __post_init__ raises ValueError, the design is skipped by the 'except' block.\n",
    "        \n",
    "        # 2. Minimum Laps\n",
    "        # If __post_init__ raises ValueError, the design is skipped by the 'except' block.\n",
    "        plane = RCPlane(m_struct, wing_span, motor_power, wing_AR, n_pucks, passenger_cargo_ratio,\n",
    "        m2_battery, banner_length, banner_AR, m3_battery)\n",
    "        # --- Calculate Score ---\n",
    "        m2_score = mission_2raw(plane.m2.num_ducks, plane.m2.num_pucks, plane.m2.num_laps, m2_battery)\n",
    "        m3_score = mission_3raw(banner_length, plane.m3.num_laps, wing_span)\n",
    "        \n",
    "        # Store results\n",
    "        RESULTS.append({\n",
    "# --- Score and Performance ---\n",
    "            'M2 Laps': plane.m2.num_laps,\n",
    "            'M3 Laps': plane.m3.num_laps,\n",
    "            'V_cruise M2 (m/s)': plane.m2.V_cruise,\n",
    "            'V_cruise M3 (m/s)': plane.m3.V_cruise,\n",
    "            'Turn Rad M2 (m)': plane.m2.turn_radius,\n",
    "            'Turn Rad M3 (m)': plane.m3.turn_radius,\n",
    "            'Total Mass M2 (kg)': m_struct + plane.propulsion.mass + plane.m2_payload + plane.avionics.m2_mass_battery,\n",
    "            'Total Mass M3 (kg)': m_struct + plane.propulsion.mass + plane.m3_payload + plane.avionics.m3_mass_battery,\n",
    "\n",
    "            # --- Input Parameters ---\n",
    "            'm_struct (kg)': m_struct,\n",
    "            'wing_span (m)': wing_span,\n",
    "            'motor_power (W)': motor_power,\n",
    "            'wing_AR': wing_AR,\n",
    "            'n_pucks': n_pucks,\n",
    "            'P/C_ratio': passenger_cargo_ratio,\n",
    "            'm2_battery (Wh)': m2_battery,\n",
    "            'banner_length (in)': banner_length,\n",
    "            'banner_AR': banner_AR,\n",
    "            'm3_battery (Wh)': m3_battery,\n",
    "        })\n",
    "        # # Keep best 5\n",
    "        # sorted(RESULTS, key=lambda x: x[\"score\"])\n",
    "        # RESULTS.pop()\n",
    "\n",
    "    except ValueError as e:\n",
    "        # Catch mass deviation or CL_cruise search errors (invalid designs)\n",
    "        continue\n",
    "    except RuntimeWarning as e:\n",
    "        # Catch invalid arccos or other math warnings (invalid designs)\n",
    "        continue\n",
    "    except Exception as e:\n",
    "        # Catch any other unexpected errors and move on\n",
    "        # print(f\"Skipping combination {params} due to error: {e}\")\n",
    "        continue\n",
    "\n",
    "\n",
    "# ----------------------------------------------------------------------\n",
    "# 4. OUTPUT RESULTS\n",
    "# ----------------------------------------------------------------------\n",
    "df_results = pd.DataFrame(RESULTS)"
   ],
   "metadata": {
    "collapsed": false,
    "is_executing": true,
    "ExecuteTime": {
     "start_time": "2025-10-24T06:21:23.570220Z"
    }
   },
   "id": "cf3087b155bccfde"
  },
  {
   "cell_type": "code",
   "outputs": [],
   "source": [
    "print(\"\\nGrid Search Complete.\")\n",
    "print(f\"Found {len(df_results)} valid designs.\")\n",
    "\n",
    "if not df_results.empty:\n",
    "    # Sort the DataFrame by the calculated Score\n",
    "    df_results_sorted = df_results.sort_values(by='Score', ascending=False).reset_index(drop=True)\n",
    "    df_results_sorted.index += 1 # Start index at 1 for Rank\n",
    "\n",
    "    print(\"\\n--- Top 5 Configurations by Score ---\")\n",
    "    # Display the most relevant columns for ranking\n",
    "    display_cols = ['Score', 'M2 Laps', 'M3 Laps', 'm_struct (kg)', 'motor_power (W)', \n",
    "                    'wing_span (m)', 'wing_AR', 'n_pucks', 'm2_battery (Wh)', 'm3_battery (Wh)']\n",
    "    print(df_results_sorted[display_cols].head())\n",
    "    \n",
    "    # Save the full DataFrame (optional, but highly recommended)\n",
    "    # df_results_sorted.to_csv('rc_plane_grid_search_results.csv', index_label='Rank')\n",
    "    # print(\"\\nFull results saved to 'rc_plane_grid_search_results.csv'\")\n",
    "else:\n",
    "    print(\"No valid designs were found within the specified grid and constraints.\")"
   ],
   "metadata": {
    "collapsed": false
   },
   "id": "96005040f6cea53f"
  },
  {
   "cell_type": "markdown",
   "source": [
    "## Combined Mission Objective Function"
   ],
   "metadata": {
    "collapsed": false
   },
   "id": "85516e1fd74a342d"
  },
  {
   "cell_type": "code",
   "outputs": [],
   "source": [
    "def objective_total(x):\n",
    "    \"\"\"\n",
    "    Calculates the combined (negative) score for Mission 2 and Mission 3.\n",
    "\n",
    "    Args:\n",
    "        x (tuple/array): Decision variables (m_struct, wing_span, motor_power, wing_AR, n_pucks, \n",
    "            passenger_cargo_ratio, m2_battery, banner_length, banner_AR, m3_battery).\n",
    "    \"\"\"\n",
    "    # Unpack decision variables\n",
    "    m_struct, wing_span, motor_power, wing_AR, n_pucks, passenger_cargo_ratio, m2_battery, banner_length, banner_AR, m3_battery = x\n",
    "\n",
    "    # Scoring\n",
    "    try:\n",
    "        plane = RCPlane(m_struct, wing_span, motor_power, wing_AR, n_pucks, passenger_cargo_ratio, m2_battery, banner_length, banner_AR, m3_battery)\n",
    "        \n",
    "        m2_score = mission_2(plane.m2.num_ducks, plane.m2.num_pucks, plane.m2.num_laps, m2_battery)\n",
    "        if not np.isfinite(m2_score):\n",
    "            return 1e6\n",
    "        \n",
    "        m3_score = mission_3(banner_length, plane.m3.num_laps, wing_span)\n",
    "        if not np.isfinite(m3_score):\n",
    "            return 1e6\n",
    "        \n",
    "    except Exception as error:\n",
    "        print(f\"RCPlane Error: {error}\")\n",
    "        return 1e6\n",
    "    \n",
    "    # Final Objective (Minimizing negative score)\n",
    "    final_score = (m3_score + m2_score)\n",
    "    print()\n",
    "    print(f\"M2: {m2_score}\\nM3: {m3_score}\\nFINAL M2 + M3 SCORE: {final_score}\")\n",
    "    return - (m3_score + m2_score)"
   ],
   "metadata": {
    "collapsed": false
   },
   "id": "89c750759871c2ac",
   "execution_count": 0
  },
  {
   "cell_type": "markdown",
   "source": [
    "## Bayesian Optimisation"
   ],
   "metadata": {
    "collapsed": false
   },
   "id": "891ddeb7966d5d5e"
  },
  {
   "cell_type": "code",
   "outputs": [],
   "source": [
    "#m_struct, wing_span, motor_power, wing_AR, n_pucks, passenger_cargo_ratio, m2_battery, banner_length, banner_AR, m3_battery\n",
    "search_space = [\n",
    "    Real(0.2, 20, name=\"m_struct\"), #kg\n",
    "    Real(0.92, 1.52, name=\"wing_span\"), # m\n",
    "    Integer(40, 4000, name=\"motor_power\"), #W\n",
    "    Integer(1, 8, name=\"wing_AR\"), \n",
    "    Integer(1, 30, name=\"pucks\"),\n",
    "    Integer(3, 15, name=\"passenger_cargo_ratio\"),\n",
    "    Integer(1, 100, name=\"m2_battery\"), #Wh\n",
    "    Integer(1, 1000, name=\"banner_length\"), #inch\n",
    "    Integer(1, 5, name=\"banner_AR\"),\n",
    "    Integer(1, 100, name=\"m3_battery\") #Wh\n",
    "]\n",
    "\n",
    "# Run Bayesian Optimization\n",
    "result = gp_minimize(\n",
    "    objective_total,\n",
    "    search_space,\n",
    "    n_calls=100,\n",
    "    n_initial_points=10,\n",
    "    random_state=42\n",
    ")\n",
    "\n",
    "# Best design\n",
    "best_params = result.x\n",
    "#WS, pucks, PC_ratio, banner_length, banner_AR, m2_fly_time, m3_fly_time\n",
    "print(\"Best parameters found:\", best_params)"
   ],
   "metadata": {
    "collapsed": false
   },
   "id": "244c20fdfd4b71c4",
   "execution_count": null
  },
  {
   "cell_type": "code",
   "outputs": [],
   "source": [
    "m_struct, wing_span, motor_power, wing_AR, n_pucks, passenger_cargo_ratio, m2_battery, banner_length, banner_AR, m3_battery = best_params\n",
    "plane = RCPlane(m_struct, wing_span, motor_power, wing_AR, n_pucks, passenger_cargo_ratio, m2_battery, banner_length, banner_AR, m3_battery)\n",
    "\n",
    "print(plane)"
   ],
   "metadata": {
    "collapsed": false
   },
   "id": "e559805055c240cd",
   "execution_count": null
  },
  {
   "cell_type": "code",
   "outputs": [],
   "source": [
    "fitness_function = objective_total\n",
    "\n",
    "num_generations = 50\n",
    "num_parents_mating = 4\n",
    "\n",
    "sol_per_pop = 8\n",
    "num_genes = 10\n",
    "\n",
    "init_range_low = -2\n",
    "init_range_high = 5\n",
    "\n",
    "parent_selection_type = \"sss\"\n",
    "keep_parents = 1\n",
    "\n",
    "crossover_type = \"single_point\"\n",
    "\n",
    "mutation_type = \"random\"\n",
    "mutation_percent_genes = 10"
   ],
   "metadata": {
    "collapsed": false
   },
   "id": "cbf21f388c3a4c0f"
  },
  {
   "cell_type": "code",
   "outputs": [],
   "source": [
    "ga_instance = pygad.GA(num_generations=num_generations,\n",
    "                       num_parents_mating=num_parents_mating,\n",
    "                       fitness_func=fitness_function,\n",
    "                       sol_per_pop=sol_per_pop,\n",
    "                       num_genes=num_genes,\n",
    "                       init_range_low=init_range_low,\n",
    "                       init_range_high=init_range_high,\n",
    "                       parent_selection_type=parent_selection_type,\n",
    "                       keep_parents=keep_parents,\n",
    "                       crossover_type=crossover_type,\n",
    "                       mutation_type=mutation_type,\n",
    "                       mutation_percent_genes=mutation_percent_genes)"
   ],
   "metadata": {
    "collapsed": false
   },
   "id": "7bebdaca686514a5"
  },
  {
   "cell_type": "code",
   "outputs": [],
   "source": [
    "ga_instance.run()"
   ],
   "metadata": {
    "collapsed": false
   },
   "id": "7abb8afbb03328df"
  }
 ],
 "metadata": {
  "kernelspec": {
   "display_name": "Python 3",
   "language": "python",
   "name": "python3"
  },
  "language_info": {
   "codemirror_mode": {
    "name": "ipython",
    "version": 2
   },
   "file_extension": ".py",
   "mimetype": "text/x-python",
   "name": "python",
   "nbconvert_exporter": "python",
   "pygments_lexer": "ipython2",
   "version": "2.7.6"
  }
 },
 "nbformat": 4,
 "nbformat_minor": 5
}
